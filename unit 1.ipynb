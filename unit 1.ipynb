{
  "metadata": {
    "language_info": {
      "codemirror_mode": {
        "name": "python",
        "version": 3
      },
      "file_extension": ".py",
      "mimetype": "text/x-python",
      "name": "python",
      "nbconvert_exporter": "python",
      "pygments_lexer": "ipython3",
      "version": "3.8"
    },
    "kernelspec": {
      "name": "python",
      "display_name": "Python (Pyodide)",
      "language": "python"
    }
  },
  "nbformat_minor": 4,
  "nbformat": 4,
  "cells": [
    {
      "cell_type": "code",
      "source": "teststr=\"varsha udupa\"\nnew_str = \"\"\nfor i in range(len(teststr)):\n    if i != 2:\n        new_str = new_str + teststr[i]\n    print (\"The string after removal of i'th character : \" + new_str)",
      "metadata": {
        "scrolled": true,
        "trusted": true
      },
      "execution_count": 58,
      "outputs": [
        {
          "name": "stdout",
          "text": "The string after removal of i'th character : v\nThe string after removal of i'th character : va\nThe string after removal of i'th character : va\nThe string after removal of i'th character : vas\nThe string after removal of i'th character : vash\nThe string after removal of i'th character : vasha\nThe string after removal of i'th character : vasha \nThe string after removal of i'th character : vasha u\nThe string after removal of i'th character : vasha ud\nThe string after removal of i'th character : vasha udu\nThe string after removal of i'th character : vasha udup\nThe string after removal of i'th character : vasha udupa\n",
          "output_type": "stream"
        }
      ]
    },
    {
      "cell_type": "code",
      "source": "def multiplication_or_sum(num1, num2):\n    product = num1 * num2\n    if product <=1000:\n        return product\n    else:\n        return num1 + num2\n\nresult = multiplication_or_sum(20,30)\nprint(\"The result is = \", result)\n\n\nresult = multiplication_or_sum(50,10)\nprint(\"The result is = \", result)\n",
      "metadata": {
        "trusted": true
      },
      "execution_count": 2,
      "outputs": [
        {
          "name": "stdout",
          "text": "The result is =  600\nThe result is =  500\n",
          "output_type": "stream"
        }
      ]
    },
    {
      "cell_type": "code",
      "source": "previous_num = 0\nfor i in range(10):\n    sum = previous_num + i\n    print(f'Current number {i} Previous Number {previous_num} is {sum}')\n    previous_num = i",
      "metadata": {
        "trusted": true
      },
      "execution_count": 3,
      "outputs": [
        {
          "name": "stdout",
          "text": "Current number 0 Previous Number 0 is 0\nCurrent number 1 Previous Number 0 is 1\nCurrent number 2 Previous Number 1 is 3\nCurrent number 3 Previous Number 2 is 5\nCurrent number 4 Previous Number 3 is 7\nCurrent number 5 Previous Number 4 is 9\nCurrent number 6 Previous Number 5 is 11\nCurrent number 7 Previous Number 6 is 13\nCurrent number 8 Previous Number 7 is 15\nCurrent number 9 Previous Number 8 is 17\n",
          "output_type": "stream"
        }
      ]
    },
    {
      "cell_type": "code",
      "source": "print(\"Please enter text to print::\")\ninputchars = input()\nif inputchars:\n    string = \"\"\n     for i in inputchars:\n            if inputchars.index(i)%2 == 0:\n                 string += str(i)\n                     print(\"You Entered:\", inputchars)\n                    print(\"Result:\")\n                    print(string)\n                \n",
      "metadata": {
        "trusted": true
      },
      "execution_count": null,
      "outputs": []
    },
    {
      "cell_type": "code",
      "source": "num = 1\nfor i in range(0,5,1):\n    sum = i+num\n    print(f'Current number {i} \"sum is\"  {sum}')\n    ",
      "metadata": {
        "trusted": true
      },
      "execution_count": 80,
      "outputs": [
        {
          "name": "stdout",
          "text": "Current number 0 \"sum is\"  1\nCurrent number 1 \"sum is\"  2\nCurrent number 2 \"sum is\"  3\nCurrent number 3 \"sum is\"  4\nCurrent number 4 \"sum is\"  5\n",
          "output_type": "stream"
        }
      ]
    },
    {
      "cell_type": "code",
      "source": "list1 = [\"Mike\", \"\", \"Emma\", \"Kelly\", \"\", \"Brad\"]\nres = list(filter(None, list1))\nprint(res)",
      "metadata": {
        "trusted": true
      },
      "execution_count": 82,
      "outputs": [
        {
          "name": "stdout",
          "text": "['Mike', 'Emma', 'Kelly', 'Brad']\n",
          "output_type": "stream"
        }
      ]
    },
    {
      "cell_type": "code",
      "source": "nums = [] \nfor i in range(5,12,8): \n    num = int(input('Give me a number:')) \n    nums.append(num) \n \n for i in nums: \n    if i % 5 == 0: \n        print(i) ",
      "metadata": {
        "trusted": true
      },
      "execution_count": null,
      "outputs": []
    },
    {
      "cell_type": "code",
      "source": "message = 'python is popular programming language'\nprint('Number of occurrence of is:', message.count('is'))\n\n",
      "metadata": {
        "trusted": true
      },
      "execution_count": 7,
      "outputs": [
        {
          "name": "stdout",
          "text": "Number of occurrence of is: 1\n",
          "output_type": "stream"
        }
      ]
    },
    {
      "cell_type": "code",
      "source": "print('My', 'Name', 'Is', 'James', sep='**')",
      "metadata": {
        "trusted": true
      },
      "execution_count": 8,
      "outputs": [
        {
          "name": "stdout",
          "text": "My**Name**Is**James\n",
          "output_type": "stream"
        }
      ]
    },
    {
      "cell_type": "code",
      "source": "num = 8\nprint('%o' % num)",
      "metadata": {
        "trusted": true
      },
      "execution_count": 9,
      "outputs": [
        {
          "name": "stdout",
          "text": "10\n",
          "output_type": "stream"
        }
      ]
    },
    {
      "cell_type": "code",
      "source": "quantity = 3\ntotalMoney = 1000\nprice = 450\nstatement1 = \"I have {1} dollars so I can buy {0} football for {2:.2f} dollars.\"\nprint(statement1.format(quantity, totalMoney, price))",
      "metadata": {
        "trusted": true
      },
      "execution_count": 10,
      "outputs": [
        {
          "name": "stdout",
          "text": "I have 1000 dollars so I can buy 3 football for 450.00 dollars.\n",
          "output_type": "stream"
        }
      ]
    },
    {
      "cell_type": "code",
      "source": "username = input(\"Enter Your Name : \")\nif username == 'Bond':\n    print(\"good morning\",username)\nelse:\n    print(\"welcome to board 7007\")\n    ",
      "metadata": {
        "trusted": true
      },
      "execution_count": 93,
      "outputs": [
        {
          "name": "stdout",
          "text": "welcome to board 7007\n",
          "output_type": "stream"
        },
        {
          "output_type": "stream",
          "name": "stdin",
          "text": "Enter Your Name :  bBond\n"
        }
      ]
    },
    {
      "cell_type": "code",
      "source": "a = [1, 2, 3, 4, 5] \n  \nfor x in range(len(a)): \n    print (a[x])",
      "metadata": {
        "trusted": true
      },
      "execution_count": 12,
      "outputs": [
        {
          "name": "stdout",
          "text": "1\n2\n3\n4\n5\n",
          "output_type": "stream"
        }
      ]
    },
    {
      "cell_type": "code",
      "source": "num = 75869\ncount = 0\nwhile num != 0:\n    num = num // 10\n    count = count + 1\nprint(\"Total digits are:\", count)",
      "metadata": {
        "trusted": true
      },
      "execution_count": 13,
      "outputs": [
        {
          "name": "stdout",
          "text": "Total digits are: 5\n",
          "output_type": "stream"
        }
      ]
    },
    {
      "cell_type": "code",
      "source": "for num in range(-10, 0, 1):\n    print(num)",
      "metadata": {
        "trusted": true
      },
      "execution_count": 14,
      "outputs": [
        {
          "name": "stdout",
          "text": "-10\n-9\n-8\n-7\n-6\n-5\n-4\n-3\n-2\n-1\n",
          "output_type": "stream"
        }
      ]
    },
    {
      "cell_type": "code",
      "source": "for i in range(5):\n    print(i)\nelse:\n    print(\"Done!\")",
      "metadata": {
        "trusted": true
      },
      "execution_count": 15,
      "outputs": [
        {
          "name": "stdout",
          "text": "0\n1\n2\n3\n4\nDone!\n",
          "output_type": "stream"
        }
      ]
    },
    {
      "cell_type": "code",
      "source": "my_list = [31, 42, 13, 34, 85, 0, 99, 1, 3]\nprint(\"The list is :\")\nprint(my_list)\nprint(\"The elements in odd positions are : \")\nfor i in range(1, len(my_list), 2):\n   print(my_list[i])",
      "metadata": {
        "trusted": true
      },
      "execution_count": 16,
      "outputs": [
        {
          "name": "stdout",
          "text": "The list is :\n[31, 42, 13, 34, 85, 0, 99, 1, 3]\nThe elements in odd positions are : \n42\n34\n0\n1\n",
          "output_type": "stream"
        }
      ]
    },
    {
      "cell_type": "code",
      "source": "\ntest_str = 'helloworld'\n\nprint(\"The original string is : \" + str(test_str))\nmid_str = \"python\"\n\ntemp = test_str.split()\nmid_pos = len(temp) // 2\n\nres = temp[:mid_pos] + [mid_str] + temp[mid_pos:]\n\nres = ' '.join(res)\n \nprint(\"Formulated String : \" + str(res))",
      "metadata": {
        "trusted": true
      },
      "execution_count": 17,
      "outputs": [
        {
          "name": "stdout",
          "text": "The original string is : helloworld\nFormulated String : python helloworld\n",
          "output_type": "stream"
        }
      ]
    },
    {
      "cell_type": "code",
      "source": "\ntest_str = \"Varsha udupa\"\nprint(\"The original string is : \" + str(test_str))\nres = test_str[0].lower() + test_str[1:]\nprint(\"The string after lowercasing initial character : \" + str(res))",
      "metadata": {
        "trusted": true
      },
      "execution_count": 18,
      "outputs": [
        {
          "name": "stdout",
          "text": "The original string is : Varsha udupa\nThe string after lowercasing initial character : varsha udupa\n",
          "output_type": "stream"
        }
      ]
    },
    {
      "cell_type": "code",
      "source": "str1 = \"Welcome to USA. usa awesome, isn't it?\"\nsub_string = \"USA\"\ntemp_str = str1.lower()\ncount = temp_str.count(sub_string.lower())\nprint(\"The USA count is:\", count)",
      "metadata": {
        "trusted": true
      },
      "execution_count": 19,
      "outputs": [
        {
          "name": "stdout",
          "text": "The USA count is: 2\n",
          "output_type": "stream"
        }
      ]
    },
    {
      "cell_type": "code",
      "source": "str1 = \"Apple\"\nchar_dict = dict()\nfor char in str1:\n    count = str1.count(char)\n    char_dict[char] = count\nprint('Result:', char_dict)",
      "metadata": {
        "trusted": true
      },
      "execution_count": 20,
      "outputs": [
        {
          "name": "stdout",
          "text": "Result: {'A': 1, 'p': 2, 'l': 1, 'e': 1}\n",
          "output_type": "stream"
        }
      ]
    },
    {
      "cell_type": "code",
      "source": "list1 = [\"M\", \"na\", \"i\", \"va\"] \nlist2 = [\"y\", \"me\", \"s\", \"rsha\"]\nlist3 = [i + j for i, j in zip(list1, list2)]\nprint(list3)",
      "metadata": {
        "trusted": true
      },
      "execution_count": 21,
      "outputs": [
        {
          "name": "stdout",
          "text": "['My', 'name', 'is', 'varsha']\n",
          "output_type": "stream"
        }
      ]
    },
    {
      "cell_type": "code",
      "source": "numbers = [1, 2, 3, 4, 5, 6, 7]\nres = []\nfor i in numbers:\n    res.append(i * i)\nprint(res)",
      "metadata": {
        "trusted": true
      },
      "execution_count": 22,
      "outputs": [
        {
          "name": "stdout",
          "text": "[1, 4, 9, 16, 25, 36, 49]\n",
          "output_type": "stream"
        }
      ]
    },
    {
      "cell_type": "code",
      "source": "list1 = [10, 20, 30, 40]\nlist2 = [100, 200, 300, 400]\n\nfor x, y in zip(list1, list2[::-1]):\n    print(x, y)",
      "metadata": {
        "trusted": true
      },
      "execution_count": 23,
      "outputs": [
        {
          "name": "stdout",
          "text": "10 400\n20 300\n30 200\n40 100\n",
          "output_type": "stream"
        }
      ]
    },
    {
      "cell_type": "code",
      "source": "list1 = [\"Mike\", \"\", \"Emma\", \"Kelly\", \"\", \"Brad\"]\nres = list(filter(None, list1))\nprint(res)",
      "metadata": {
        "trusted": true
      },
      "execution_count": 24,
      "outputs": [
        {
          "name": "stdout",
          "text": "['Mike', 'Emma', 'Kelly', 'Brad']\n",
          "output_type": "stream"
        }
      ]
    },
    {
      "cell_type": "code",
      "source": "list1 = [10, 20, [300, 400, [5000, 6000], 500], 30, 40]\nlist1[2][2].append(7000)\nprint(list1)",
      "metadata": {
        "trusted": true
      },
      "execution_count": 25,
      "outputs": [
        {
          "name": "stdout",
          "text": "[10, 20, [300, 400, [5000, 6000, 7000], 500], 30, 40]\n",
          "output_type": "stream"
        }
      ]
    },
    {
      "cell_type": "code",
      "source": "num1= input(\"enter first number\")\nnum2=input(\"enter second number\")\nprint(\"the numbers are\",num1,num2)",
      "metadata": {
        "trusted": true
      },
      "execution_count": 61,
      "outputs": [
        {
          "name": "stdout",
          "text": "the numbers are <PyodideFuture pending cb=[WebLoop._decrement_in_progress()]> <PyodideFuture pending cb=[WebLoop._decrement_in_progress()]>\n",
          "output_type": "stream"
        },
        {
          "output_type": "stream",
          "name": "stdin",
          "text": "enter first number 1\nenter second number 2\n"
        }
      ]
    },
    {
      "cell_type": "code",
      "source": "\nfor income in [5000,10000,16777]:\n\n    if income <= 10_000:\n        tax = 0\n    elif income <= 20_000: \n        tax = (income - 10_000) * 0.1              # 10% on income above 10K\n    else:\n        tax = (income-20_000) * 0.2 +  10_000*0.1  # 20% on income above 20K, plus tax on 10K of income below 20K\n\n    print(f\"For income {income}, You owe {tax} dollars in tax!\" )",
      "metadata": {
        "trusted": true
      },
      "execution_count": 27,
      "outputs": [
        {
          "name": "stdout",
          "text": "For income 5000, You owe 0 dollars in tax!\nFor income 10000, You owe 0 dollars in tax!\nFor income 16777, You owe 677.7 dollars in tax!\n",
          "output_type": "stream"
        }
      ]
    },
    {
      "cell_type": "code",
      "source": "list1 = [\"a\", \"b\", [\"c\", [\"d\", \"e\", [\"f\", \"g\"], \"k\"], \"l\"], \"m\", \"n\"]\nsub_list = [\"h\", \"i\", \"j\"]\nlist1[2][1][2].extend(sub_list)\nprint(list1)\n",
      "metadata": {
        "trusted": true
      },
      "execution_count": 28,
      "outputs": [
        {
          "name": "stdout",
          "text": "['a', 'b', ['c', ['d', 'e', ['f', 'g', 'h', 'i', 'j'], 'k'], 'l'], 'm', 'n']\n",
          "output_type": "stream"
        }
      ]
    },
    {
      "cell_type": "code",
      "source": "list1 = [5, 10, 15, 200, 25, 30, 35]\nindex = list1.index(200)\nlist1[index] = 20\nprint(list1)\n",
      "metadata": {
        "trusted": true
      },
      "execution_count": 29,
      "outputs": [
        {
          "name": "stdout",
          "text": "[5, 10, 15, 20, 25, 30, 35]\n",
          "output_type": "stream"
        }
      ]
    },
    {
      "cell_type": "code",
      "source": "list1 = [5, 20, 15, 20, 25, 50, 20]\ndef remove_value(sample_list, val):\n    return [i for i in sample_list if i != val]\nres = remove_value(list1, 20)\nprint(res)\n",
      "metadata": {
        "trusted": true
      },
      "execution_count": 30,
      "outputs": [
        {
          "name": "stdout",
          "text": "[5, 15, 25, 50]\n",
          "output_type": "stream"
        }
      ]
    },
    {
      "cell_type": "code",
      "source": "test_keys = [\"Abi\", \"Aashish\", \"Varsha\"]\ntest_values = [1, 3, 10]\nprint(\"Original key list is : \" + str(test_keys))\nprint(\"Original value list is : \" + str(test_values))\nres = {}\nfor key in test_keys:\n    for value in test_values:\n        res[key] = value\n        test_values.remove(value)\n        break\nprint(\"Resultant dictionary is : \" + str(res))\n",
      "metadata": {
        "trusted": true
      },
      "execution_count": 31,
      "outputs": [
        {
          "name": "stdout",
          "text": "Original key list is : ['Abi', 'Aashish', 'Varsha']\nOriginal value list is : [1, 3, 10]\nResultant dictionary is : {'Abi': 1, 'Aashish': 3, 'Varsha': 10}\n",
          "output_type": "stream"
        }
      ]
    },
    {
      "cell_type": "code",
      "source": "def Merge(dict1, dict2):\n    return(dict2.update(dict1))\ndict1 = {'a': 10, 'b': 8}\ndict2 = {'d': 6, 'c': 4}\nprint(Merge(dict1, dict2))\nprint(dict2)\n\n",
      "metadata": {
        "trusted": true
      },
      "execution_count": 32,
      "outputs": [
        {
          "name": "stdout",
          "text": "None\n{'d': 6, 'c': 4, 'a': 10, 'b': 8}\n",
          "output_type": "stream"
        }
      ]
    },
    {
      "cell_type": "code",
      "source": "sampleDict = {\n    \"class\": {\n        \"student\": {\n            \"name\": \"Mike\",\n            \"marks\": {\n                \"physics\": 70,\n                \"history\": 80\n            }\n        }\n    }\n}\nprint(sampleDict['class']['student']['marks']['history'])\n",
      "metadata": {
        "trusted": true
      },
      "execution_count": 33,
      "outputs": [
        {
          "name": "stdout",
          "text": "80\n",
          "output_type": "stream"
        }
      ]
    },
    {
      "cell_type": "code",
      "source": "employees = ['Kelly', 'Emma']\ndefaults = {\"designation\": 'Developer', \"salary\": 8000}\nres = dict.fromkeys(employees, defaults)\nprint(res)\nprint(res[\"Kelly\"])\n\n",
      "metadata": {
        "trusted": true
      },
      "execution_count": 34,
      "outputs": [
        {
          "name": "stdout",
          "text": "{'Kelly': {'designation': 'Developer', 'salary': 8000}, 'Emma': {'designation': 'Developer', 'salary': 8000}}\n{'designation': 'Developer', 'salary': 8000}\n",
          "output_type": "stream"
        }
      ]
    },
    {
      "cell_type": "code",
      "source": "sampleDict = { \n  \"name\": \"Kelly\",\n  \"age\":25, \n  \"salary\": 8000, \n  \"city\": \"New york\" }\n\nkeys = [\"name\", \"salary\"]\n\nnewDict = {k: sampleDict[k] for k in keys}\nprint(newDict)\n",
      "metadata": {
        "trusted": true
      },
      "execution_count": 35,
      "outputs": [
        {
          "name": "stdout",
          "text": "{'name': 'Kelly', 'salary': 8000}\n",
          "output_type": "stream"
        }
      ]
    },
    {
      "cell_type": "code",
      "source": "sample_dict = {\n    \"name\": \"Kelly\",\n    \"age\": 25,\n    \"salary\": 8000,\n    \"city\": \"New york\"\n}\nkeys = [\"name\", \"salary\"]\n\nsample_dict = {k: sample_dict[k] for k in sample_dict.keys() - keys}\nprint(sample_dict)\n",
      "metadata": {
        "trusted": true
      },
      "execution_count": 36,
      "outputs": [
        {
          "name": "stdout",
          "text": "{'city': 'New york', 'age': 25}\n",
          "output_type": "stream"
        }
      ]
    },
    {
      "cell_type": "code",
      "source": "sample_dict = {'a': 100, 'b': 200, 'c': 300}\nif 200 in sample_dict.values():\n    print('200 present in a dict')\n\n",
      "metadata": {
        "trusted": true
      },
      "execution_count": 37,
      "outputs": [
        {
          "name": "stdout",
          "text": "200 present in a dict\n",
          "output_type": "stream"
        }
      ]
    },
    {
      "cell_type": "code",
      "source": "sample_dict = {\n    \"name\": \"Kelly\",\n    \"age\": 25,\n    \"salary\": 8000,\n    \"city\": \"New york\"\n}\n\nsample_dict['location'] = sample_dict.pop('city')\nprint(sample_dict)\n",
      "metadata": {
        "trusted": true
      },
      "execution_count": 38,
      "outputs": [
        {
          "name": "stdout",
          "text": "{'name': 'Kelly', 'age': 25, 'salary': 8000, 'location': 'New york'}\n",
          "output_type": "stream"
        }
      ]
    },
    {
      "cell_type": "code",
      "source": "sample_dict = {\n    'Physics': 82,\n    'Math': 65,\n    'history': 75\n}\nprint(min(sample_dict, key=sample_dict.get))\n\n",
      "metadata": {
        "trusted": true
      },
      "execution_count": 39,
      "outputs": [
        {
          "name": "stdout",
          "text": "Math\n",
          "output_type": "stream"
        }
      ]
    },
    {
      "cell_type": "code",
      "source": "sample_dict = {\n    'emp1': {'name': 'Jhon', 'salary': 7500},\n    'emp2': {'name': 'Emma', 'salary': 8000},\n    'emp3': {'name': 'Brad', 'salary': 6500}\n}\n\nsample_dict['emp3']['salary'] = 8500\nprint(sample_dict)\n\n",
      "metadata": {
        "trusted": true
      },
      "execution_count": 40,
      "outputs": [
        {
          "name": "stdout",
          "text": "{'emp1': {'name': 'Jhon', 'salary': 7500}, 'emp2': {'name': 'Emma', 'salary': 8000}, 'emp3': {'name': 'Brad', 'salary': 8500}}\n",
          "output_type": "stream"
        }
      ]
    },
    {
      "cell_type": "code",
      "source": "tuple1 = (10, 20, 30, 40, 50)\ntuple1 = tuple1[::-1]\nprint(tuple1)\n",
      "metadata": {
        "trusted": true
      },
      "execution_count": 41,
      "outputs": [
        {
          "name": "stdout",
          "text": "(50, 40, 30, 20, 10)\n",
          "output_type": "stream"
        }
      ]
    },
    {
      "cell_type": "code",
      "source": "tuple1 = (\"Orange\", [10, 20, 30], (5, 15, 25))\nprint(tuple1[1][1])\n",
      "metadata": {
        "trusted": true
      },
      "execution_count": 42,
      "outputs": [
        {
          "name": "stdout",
          "text": "20\n",
          "output_type": "stream"
        }
      ]
    },
    {
      "cell_type": "code",
      "source": "tuple1= (50)\nprint(tuple1)\n\n",
      "metadata": {
        "trusted": true
      },
      "execution_count": 43,
      "outputs": [
        {
          "name": "stdout",
          "text": "50\n",
          "output_type": "stream"
        }
      ]
    },
    {
      "cell_type": "code",
      "source": "tuple1 = (10, 20, 30, 40)\na, b, c, d = tuple1\nprint(a)\nprint(b)\nprint(c)\nprint(d)\n",
      "metadata": {
        "trusted": true
      },
      "execution_count": 44,
      "outputs": [
        {
          "name": "stdout",
          "text": "10\n20\n30\n40\n",
          "output_type": "stream"
        }
      ]
    },
    {
      "cell_type": "code",
      "source": "tuple1 = (11, 22)\ntuple2 = (99, 88)\ntuple1, tuple2 = tuple2, tuple1\nprint(tuple2)\nprint(tuple1)\n",
      "metadata": {
        "trusted": true
      },
      "execution_count": 45,
      "outputs": [
        {
          "name": "stdout",
          "text": "(11, 22)\n(99, 88)\n",
          "output_type": "stream"
        }
      ]
    },
    {
      "cell_type": "code",
      "source": "tuple1 = (11, 22, 33, 44, 55, 66)\ntuple2 = tuple1[3:-1]\nprint(tuple2)\n",
      "metadata": {
        "trusted": true
      },
      "execution_count": 46,
      "outputs": [
        {
          "name": "stdout",
          "text": "(44, 55)\n",
          "output_type": "stream"
        }
      ]
    },
    {
      "cell_type": "code",
      "source": "tuple1 = (11, [22, 33], 44, 55)\ntuple1[1][0] = 222\nprint(tuple1)\n\n",
      "metadata": {
        "trusted": true
      },
      "execution_count": 47,
      "outputs": [
        {
          "name": "stdout",
          "text": "(11, [222, 33], 44, 55)\n",
          "output_type": "stream"
        }
      ]
    },
    {
      "cell_type": "code",
      "source": "tuple1 = (('a', 23), ('b', 37), ('c', 11), ('d', 29))\ntuple1 = tuple(sorted(list(tuple1), key=lambda x: x[1]))\nprint(tuple1)\n\n",
      "metadata": {
        "trusted": true
      },
      "execution_count": 48,
      "outputs": [
        {
          "name": "stdout",
          "text": "(('c', 11), ('a', 23), ('d', 29), ('b', 37))\n",
          "output_type": "stream"
        }
      ]
    },
    {
      "cell_type": "code",
      "source": "tuple1 = (50, 10, 60, 70, 50)\nprint(tuple1.count(50))\n\n",
      "metadata": {
        "trusted": true
      },
      "execution_count": 49,
      "outputs": [
        {
          "name": "stdout",
          "text": "2\n",
          "output_type": "stream"
        }
      ]
    },
    {
      "cell_type": "code",
      "source": "def check(t):\n    return all(i == t[0] for i in t)\ntuple1 = (45, 45, 45, 45)\nprint(check(tuple1))\n\n",
      "metadata": {
        "trusted": true
      },
      "execution_count": 50,
      "outputs": [
        {
          "name": "stdout",
          "text": "True\n",
          "output_type": "stream"
        }
      ]
    },
    {
      "cell_type": "code",
      "source": "sample_set = {\"Yellow\", \"Orange\", \"Black\"}\nsample_list = [\"Blue\", \"Green\", \"Red\"]\n\nsample_set.update(sample_list)\nprint(sample_set)\n",
      "metadata": {
        "trusted": true
      },
      "execution_count": 51,
      "outputs": [
        {
          "name": "stdout",
          "text": "{'Orange', 'Green', 'Yellow', 'Black', 'Red', 'Blue'}\n",
          "output_type": "stream"
        }
      ]
    },
    {
      "cell_type": "code",
      "source": "set1 = {10, 20, 30, 40, 50}\nset2 = {30, 40, 50, 60, 70}\n\nprint(set1.intersection(set2))\n",
      "metadata": {
        "trusted": true
      },
      "execution_count": 52,
      "outputs": [
        {
          "name": "stdout",
          "text": "{40, 50, 30}\n",
          "output_type": "stream"
        }
      ]
    },
    {
      "cell_type": "code",
      "source": "set1 = {10, 20, 30, 40, 50}\nset2 = {30, 40, 50, 60, 70}\n\nprint(set1.union(set2))\n",
      "metadata": {
        "trusted": true
      },
      "execution_count": 53,
      "outputs": [
        {
          "name": "stdout",
          "text": "{70, 40, 10, 50, 20, 60, 30}\n",
          "output_type": "stream"
        }
      ]
    },
    {
      "cell_type": "code",
      "source": "set1 = {10, 20, 30}\nset2 = {20, 40, 50}\n\nset1.difference_update(set2)\nprint(set1)\n",
      "metadata": {
        "trusted": true
      },
      "execution_count": 54,
      "outputs": [
        {
          "name": "stdout",
          "text": "{10, 30}\n",
          "output_type": "stream"
        }
      ]
    },
    {
      "cell_type": "code",
      "source": "set1 = {10, 20, 30, 40, 50}\nset1.difference_update({10, 20, 30})\nprint(set1)\n",
      "metadata": {
        "trusted": true
      },
      "execution_count": 55,
      "outputs": [
        {
          "name": "stdout",
          "text": "{50, 40}\n",
          "output_type": "stream"
        }
      ]
    },
    {
      "cell_type": "code",
      "source": "set1 = {10, 20, 30, 40, 50}\nset2 = {30, 40, 50, 60, 70}\n\nprint(set1.symmetric_difference(set2))\n",
      "metadata": {
        "trusted": true
      },
      "execution_count": 56,
      "outputs": [
        {
          "name": "stdout",
          "text": "{20, 70, 10, 60}\n",
          "output_type": "stream"
        }
      ]
    },
    {
      "cell_type": "code",
      "source": "set1 = {10, 20, 30, 40, 50}\nset2 = {60, 70, 80, 90, 10}\nif set1.isdisjoint(set2):\n  print(\"Two sets have no items in common\")\nelse:\n  print(\"Two sets have items in common\")\n",
      "metadata": {
        "trusted": true
      },
      "execution_count": 57,
      "outputs": [
        {
          "name": "stdout",
          "text": "Two sets have items in common\n",
          "output_type": "stream"
        }
      ]
    },
    {
      "cell_type": "code",
      "source": "numbers = []\nfor i in range(0, 5):\n    print(\"Enter number at location\", i, \":\")\n    item = float(input())\n    numbers.append(item)\nprint(\"User List:\", numbers)",
      "metadata": {
        "trusted": true
      },
      "execution_count": null,
      "outputs": []
    },
    {
      "cell_type": "code",
      "source": "a = input(\"Enter three values: \")\nprint(\"Enter Your First Name: \", a)  \nprint(\"Enter Your Last Name: \", b)  \nprint(\"Enter Your Class: \", c)  \nprint(\"First name {},Second name {}, Class {}\".format(a,b,c))\n",
      "metadata": {
        "trusted": true
      },
      "execution_count": null,
      "outputs": []
    },
    {
      "cell_type": "code",
      "source": "string = input(\"Please Enter your Own String : \")\nalphabets = digits = special = 0\n\nfor i in range(len(string)):\n    if(string[i].isalpha()):\n        alphabets = alphabets + 1\n    elif(string[i].isdigit()):\n        digits = digits + 1\n    else:\n        special = special + 1\n        \nprint(\"\\nTotal Number of Alphabets in this String :  \", alphabets)\nprint(\"Total Number of Digits in this String :  \", digits)\nprint(\"Total Number of Special Characters in this String :  \", special)",
      "metadata": {
        "trusted": true
      },
      "execution_count": null,
      "outputs": []
    }
  ]
}